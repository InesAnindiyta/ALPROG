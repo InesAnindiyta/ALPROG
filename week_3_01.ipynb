{
  "nbformat": 4,
  "nbformat_minor": 0,
  "metadata": {
    "colab": {
      "provenance": [],
      "authorship_tag": "ABX9TyMloQ0UQXPcIvZRRICpb+Ik",
      "include_colab_link": true
    },
    "kernelspec": {
      "name": "python3",
      "display_name": "Python 3"
    },
    "language_info": {
      "name": "python"
    }
  },
  "cells": [
    {
      "cell_type": "markdown",
      "metadata": {
        "id": "view-in-github",
        "colab_type": "text"
      },
      "source": [
        "<a href=\"https://colab.research.google.com/github/InesAnindiyta/ALPROG/blob/main/week_3_01.ipynb\" target=\"_parent\"><img src=\"https://colab.research.google.com/assets/colab-badge.svg\" alt=\"Open In Colab\"/></a>"
      ]
    },
    {
      "cell_type": "code",
      "execution_count": null,
      "metadata": {
        "colab": {
          "base_uri": "https://localhost:8080/"
        },
        "id": "HA8QD2_R8K-y",
        "outputId": "16b32c97-bc08-4460-b0b2-cebb05092de5"
      },
      "outputs": [
        {
          "output_type": "stream",
          "name": "stdout",
          "text": [
            "Python of powerful\n"
          ]
        }
      ],
      "source": [
        "print('Python of powerful')"
      ]
    },
    {
      "cell_type": "code",
      "source": [
        "print('Good Morning! \\n ssssss')\n",
        "print('It is rainly today')"
      ],
      "metadata": {
        "colab": {
          "base_uri": "https://localhost:8080/"
        },
        "id": "wIBc2JtAC2mQ",
        "outputId": "0ef7ac91-c4fa-40a2-acc6-6dc4f54ac89f"
      },
      "execution_count": null,
      "outputs": [
        {
          "output_type": "stream",
          "name": "stdout",
          "text": [
            "Good Morning! \n",
            " ssssss\n",
            "It is rainly today\n"
          ]
        }
      ]
    },
    {
      "cell_type": "code",
      "execution_count": null,
      "metadata": {
        "id": "J24cDoRxUg98",
        "outputId": "08ef3705-a6f0-476b-ad01-ddffd5a40ae6"
      },
      "outputs": [
        {
          "name": "stdout",
          "output_type": "stream",
          "text": [
            "Good Morning! It is rainy today\n"
          ]
        }
      ],
      "source": [
        "# print with end whitespace\n",
        "print('Good Morning!', end= ' ')\n",
        "\n",
        "print('It is rainy today')"
      ]
    },
    {
      "cell_type": "code",
      "source": [
        "print('New Year' ,2023,'See you soon!', sep= '*')"
      ],
      "metadata": {
        "colab": {
          "base_uri": "https://localhost:8080/"
        },
        "id": "kNCpeJ_zEPiv",
        "outputId": "d5fccef9-ae45-4417-c477-f62a5b09d7f3"
      },
      "execution_count": null,
      "outputs": [
        {
          "output_type": "stream",
          "name": "stdout",
          "text": [
            "New Year*2023*See you soon!\n"
          ]
        }
      ]
    },
    {
      "cell_type": "code",
      "source": [
        "number = -10.6\n",
        "\n",
        "name = \"Teknologi Informasi\"\n",
        "\n",
        "# print literals\n",
        "print(5)\n",
        "\n",
        "# print variabels\n",
        "print(number)\n",
        "print(name)"
      ],
      "metadata": {
        "colab": {
          "base_uri": "https://localhost:8080/"
        },
        "id": "rtwYwH6KE2Af",
        "outputId": "22fc0411-28c6-4da2-a8db-eb5b27a14f02"
      },
      "execution_count": null,
      "outputs": [
        {
          "output_type": "stream",
          "name": "stdout",
          "text": [
            "5\n",
            "-10.6\n",
            "Teknologi Informasi\n"
          ]
        }
      ]
    },
    {
      "cell_type": "code",
      "execution_count": null,
      "metadata": {
        "id": "h5Se7AUqX1Im",
        "colab": {
          "base_uri": "https://localhost:8080/"
        },
        "outputId": "491b78ce-abb1-4d92-b61f-653747a28035"
      },
      "outputs": [
        {
          "output_type": "stream",
          "name": "stdout",
          "text": [
            "Teknologi Informasi Universitas Tidar\n"
          ]
        }
      ],
      "source": [
        "print('Teknologi Informasi ' + 'Universitas Tidar')"
      ]
    },
    {
      "cell_type": "code",
      "source": [
        "x = 5\n",
        "y = 10\n",
        "\n",
        "print('The ')"
      ],
      "metadata": {
        "id": "Yz3rIY2JGBr3"
      },
      "execution_count": null,
      "outputs": []
    },
    {
      "cell_type": "markdown",
      "source": [
        "### LATIHAN 1"
      ],
      "metadata": {
        "id": "t2vWc1bkGgP3"
      }
    },
    {
      "cell_type": "code",
      "execution_count": null,
      "metadata": {
        "id": "SCIfvzfjc0o7"
      },
      "outputs": [],
      "source": [
        "# 1\n",
        "# Write line to file\n",
        "\n",
        "with open('sample_data/biodata_ines.txt', 'w') as writefile:\n",
        "    writefile.write(\"This is line A\")"
      ]
    },
    {
      "cell_type": "code",
      "source": [
        "# 2\n",
        "with open('sample_data/biodata_ines.txt', 'r') as testwritefile:\n",
        "  for line in testwritefile:\n",
        "    if \"Nama\" in line or \"Program Studi\" in line or \"Email\" in line:\n",
        "        print(line.strip())"
      ],
      "metadata": {
        "colab": {
          "base_uri": "https://localhost:8080/"
        },
        "id": "AWS9gyIdWmGl",
        "outputId": "f6125015-3f10-49b7-da75-8f2cc5b47ffb"
      },
      "execution_count": null,
      "outputs": [
        {
          "output_type": "stream",
          "name": "stdout",
          "text": [
            "Nama          : Ines Anindiyta\n",
            "Program Studi : Teknologi Informasi\n",
            "Email         : aninanindyta@gmail.com\n"
          ]
        }
      ]
    },
    {
      "cell_type": "code",
      "source": [
        "#3\n",
        "with open('sample_data/biodata_ines.txt', 'r') as readfile:\n",
        "  with open('sample_data/biodata_baru.txt', 'w') as writefile:\n",
        "    for line in readfile:\n",
        "              writefile.write(line)"
      ],
      "metadata": {
        "id": "gxWc1W_rZMi5"
      },
      "execution_count": null,
      "outputs": []
    },
    {
      "cell_type": "code",
      "source": [
        "with open('sample_data/biodata_baru.txt', 'r') as testwritefile:\n",
        "  for line in testwritefile:\n",
        "    if \"Nama\" in line or \"Program Studi\" in line or \"Email\" in line:\n",
        "      print(line.strip())"
      ],
      "metadata": {
        "colab": {
          "base_uri": "https://localhost:8080/"
        },
        "id": "1mWA6Lxlb9Rp",
        "outputId": "6b7bcd54-eb5f-4909-f628-94cb00f67e83"
      },
      "execution_count": null,
      "outputs": [
        {
          "output_type": "stream",
          "name": "stdout",
          "text": [
            "Nama          : Ines Anindiyta\n",
            "Program Studi : Teknologi Informasi\n",
            "Email         : aninanindyta@gmail.com\n"
          ]
        }
      ]
    },
    {
      "cell_type": "markdown",
      "source": [
        "### LATIHAN 2"
      ],
      "metadata": {
        "id": "YIbRo12YMFdi"
      }
    },
    {
      "cell_type": "code",
      "source": [
        "print (\"Selamat datang di Toko Maju Jaya\")\n",
        "print (\"senin, 4 september 2023        13.05\")\n",
        "print (\" \")\n",
        "\n",
        "print (\"DAFTAR BELANJA:\")\n",
        "item1 = 'sabun'\n",
        "item2 = 'shampo'\n",
        "item3 = 'mie instant'\n",
        "item4 = 'detergen'\n",
        "harga1 = 10000\n",
        "harga2 = 15000\n",
        "harga3 = 5000\n",
        "harga4 = 17500\n",
        "\n",
        "total = harga1 + harga2 + harga3 + harga4\n",
        "\n",
        "print(item1, '        = Rp ' + str(harga1))\n",
        "print(item2, '        = Rp ' + str(harga2))\n",
        "print(item3, '        = Rp ' + str(harga3))\n",
        "print(item4, '        = Rp ' + str(harga4))\n",
        "\n",
        "print(\" \")\n",
        "print(\"Total = Rp \" + str(total))\n",
        "\n",
        "with open('sample_data/kuitansi.txt', 'w') as writefile:\n",
        "        writefile.write(\"Selamat Datang di Toko Maju Jaya\\n\")\n",
        "        writefile.write(\" \\n\")\n",
        "        writefile.write(\"kuitansi - 4 september 2023\\n\")\n",
        "        writefile.write(\" \\n\")\n",
        "        writefile.write(item1 + \" = Rp\" + str(harga1) + \"\\n\")\n",
        "        writefile.write(item2 + \" = Rp\" + str(harga2) + \"\\n\")\n",
        "        writefile.write(item3 + \" = Rp\" + str(harga3) + \"\\n\")\n",
        "        writefile.write(item4 + \" = Rp\" + str(harga4) + \"\\n\")\n",
        "        writefile.write(\" \\n\")\n",
        "        writefile.write(\"Total Belanja =\" + str(total))"
      ],
      "metadata": {
        "colab": {
          "base_uri": "https://localhost:8080/"
        },
        "id": "CzeJ5ka_MPl6",
        "outputId": "2ae8ba4a-641d-4cae-b2ac-5fb78aa60085"
      },
      "execution_count": null,
      "outputs": [
        {
          "output_type": "stream",
          "name": "stdout",
          "text": [
            "Selamat datang di Toko Maju Jaya\n",
            "senin, 4 september 2023        13.05\n",
            " \n",
            "DAFTAR BELANJA:\n",
            "sabun         = Rp 10000\n",
            "shampo         = Rp 15000\n",
            "mie instant         = Rp 5000\n",
            "detergen         = Rp 17500\n",
            " \n",
            "Total = Rp 47500\n"
          ]
        }
      ]
    }
  ]
}