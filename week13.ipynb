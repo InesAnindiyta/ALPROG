{
  "nbformat": 4,
  "nbformat_minor": 0,
  "metadata": {
    "colab": {
      "provenance": [],
      "authorship_tag": "ABX9TyPF1USIVBrRB/v9vmtHKT0p",
      "include_colab_link": true
    },
    "kernelspec": {
      "name": "python3",
      "display_name": "Python 3"
    },
    "language_info": {
      "name": "python"
    }
  },
  "cells": [
    {
      "cell_type": "markdown",
      "metadata": {
        "id": "view-in-github",
        "colab_type": "text"
      },
      "source": [
        "<a href=\"https://colab.research.google.com/github/InesAnindiyta/ALPROG/blob/main/week13.ipynb\" target=\"_parent\"><img src=\"https://colab.research.google.com/assets/colab-badge.svg\" alt=\"Open In Colab\"/></a>"
      ]
    },
    {
      "cell_type": "markdown",
      "source": [
        "### exercise 1"
      ],
      "metadata": {
        "id": "gJ9PkpU0mNZe"
      }
    },
    {
      "cell_type": "code",
      "source": [
        "class AlatTulis:\n",
        "    def __init__(self, nama, stok, harga_satuan):\n",
        "        self.nama = nama\n",
        "        self.stok = stok\n",
        "        self.harga_satuan = harga_satuan\n",
        "        self.total_harga = self.stok * self.harga_satuan\n",
        "\n",
        "    def set_nama(self, nama):\n",
        "        self.nama = nama\n",
        "\n",
        "    def set_stok(self, stok):\n",
        "        self.stok = stok\n",
        "        self.total_harga = self.stok * self.harga_satuan\n",
        "    def set_harga_satuan(self, harga_satuan):\n",
        "        self.harga_satuan = harga_satuan\n",
        "        self.total_harga = self.stok * self.harga_satuan\n",
        "\n",
        "    def get_nama(self):\n",
        "        return self.nama\n",
        "\n",
        "    def get_stok(self):\n",
        "        return self.stok\n",
        "\n",
        "    def get_harga_satuan(self):\n",
        "        return self.harga_satuan\n",
        "\n",
        "    def get_total_harga(self):\n",
        "        return self.total_harga\n",
        "\n",
        "    def proses_penjualan(self, jumlah_terjual):\n",
        "        if jumlah_terjual <= self.stok:\n",
        "            self.stok -= jumlah_terjual\n",
        "            self.total_harga = self.stok * self.harga_satuan\n",
        "        else:\n",
        "            print(\"Stok tidak cukup untuk penjualan.\")\n",
        "\n",
        "def tampilkan_informasi(alat):\n",
        "    print(\"\\nNama:\", alat.get_nama())\n",
        "    print(\"Stok:\", alat.get_stok())\n",
        "    print(\"Harga Satuan:\", alat.get_harga_satuan())\n",
        "    print(\"Total Harga:\", alat.get_total_harga())\n",
        "\n",
        "def main():\n",
        "    bolpoint = AlatTulis(\"Bolpoint\", 10, 2000)\n",
        "    pensil = AlatTulis(\"Pensil\", 10, 1000)\n",
        "    penghapus = AlatTulis(\"Penghapus\", 10, 500)\n",
        "\n",
        "    print(\"Alat Tulis:\")\n",
        "    alat_tulis_list = [bolpoint, pensil, penghapus]\n",
        "\n",
        "    for alat in alat_tulis_list:\n",
        "        tampilkan_informasi(alat)\n",
        "\n",
        "    bolpoint.proses_penjualan(5)\n",
        "\n",
        "    print(\"\\nHarga jual:\")\n",
        "    for alat in alat_tulis_list:\n",
        "        tampilkan_informasi(alat)\n",
        "\n",
        "if __name__ == \"__main__\":\n",
        "    main()"
      ],
      "metadata": {
        "colab": {
          "base_uri": "https://localhost:8080/"
        },
        "id": "rvUdOQCcjnOj",
        "outputId": "d8506ac6-488a-4f12-a8cc-841cbac878df"
      },
      "execution_count": 6,
      "outputs": [
        {
          "output_type": "stream",
          "name": "stdout",
          "text": [
            "Alat Tulis:\n",
            "\n",
            "Nama: Bolpoint\n",
            "Stok: 10\n",
            "Harga Satuan: 2000\n",
            "Total Harga: 20000\n",
            "\n",
            "Nama: Pensil\n",
            "Stok: 10\n",
            "Harga Satuan: 1000\n",
            "Total Harga: 10000\n",
            "\n",
            "Nama: Penghapus\n",
            "Stok: 10\n",
            "Harga Satuan: 500\n",
            "Total Harga: 5000\n",
            "\n",
            "Harga jual:\n",
            "\n",
            "Nama: Bolpoint\n",
            "Stok: 5\n",
            "Harga Satuan: 2000\n",
            "Total Harga: 10000\n",
            "\n",
            "Nama: Pensil\n",
            "Stok: 10\n",
            "Harga Satuan: 1000\n",
            "Total Harga: 10000\n",
            "\n",
            "Nama: Penghapus\n",
            "Stok: 10\n",
            "Harga Satuan: 500\n",
            "Total Harga: 5000\n"
          ]
        }
      ]
    }
  ]
}