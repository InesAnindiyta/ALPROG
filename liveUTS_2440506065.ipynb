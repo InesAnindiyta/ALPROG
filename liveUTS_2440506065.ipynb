{
  "nbformat": 4,
  "nbformat_minor": 0,
  "metadata": {
    "colab": {
      "provenance": [],
      "authorship_tag": "ABX9TyOZ4wdy3ZDvdqRXAwEWqNSU",
      "include_colab_link": true
    },
    "kernelspec": {
      "name": "python3",
      "display_name": "Python 3"
    },
    "language_info": {
      "name": "python"
    }
  },
  "cells": [
    {
      "cell_type": "markdown",
      "metadata": {
        "id": "view-in-github",
        "colab_type": "text"
      },
      "source": [
        "<a href=\"https://colab.research.google.com/github/InesAnindiyta/ALPROG/blob/main/liveUTS_2440506065.ipynb\" target=\"_parent\"><img src=\"https://colab.research.google.com/assets/colab-badge.svg\" alt=\"Open In Colab\"/></a>"
      ]
    },
    {
      "cell_type": "code",
      "source": [
        "npm = input(\"masukkan npm anda: \")\n",
        "\n",
        "jumlah_genap = 0\n",
        "jumlah_ganjil = 0\n",
        "\n",
        "for digit in npm:\n",
        "  angka = int(digit)\n",
        "  if angka % 2 == 0:\n",
        "        jumlah_genap += 1\n",
        "  else:\n",
        "        jumlah_ganjil += 1\n",
        "\n",
        "print(\"Jumlah bilangan genap:\", jumlah_genap)\n",
        "print(\"Jumlah bilangan ganjil:\", jumlah_ganjil)"
      ],
      "metadata": {
        "colab": {
          "base_uri": "https://localhost:8080/"
        },
        "id": "89TnzT22WMbq",
        "outputId": "b8ac4c92-93fb-47d4-d51f-b77b26c8ecf1"
      },
      "execution_count": null,
      "outputs": [
        {
          "output_type": "stream",
          "name": "stdout",
          "text": [
            "masukkan npm anda: 2440506001\n",
            "Jumlah bilangan genap: 8\n",
            "Jumlah bilangan ganjil: 2\n"
          ]
        }
      ]
    },
    {
      "cell_type": "code",
      "source": [
        " baris = int(input(\"Masukkan jumlah baris: \"))\n",
        "\n",
        "for i in range(1, baris+1):\n",
        "    for j in range(1, i+1):\n",
        "        print(i * j, end=' ')\n",
        "    print()"
      ],
      "metadata": {
        "colab": {
          "base_uri": "https://localhost:8080/"
        },
        "id": "s7DZVfYibWJZ",
        "outputId": "05cd9dec-78dc-4806-ef3c-7c844140b481"
      },
      "execution_count": null,
      "outputs": [
        {
          "output_type": "stream",
          "name": "stdout",
          "text": [
            "Masukkan jumlah baris: 5\n",
            "1 \n",
            "2 4 \n",
            "3 6 9 \n",
            "4 8 12 16 \n",
            "5 10 15 20 25 \n"
          ]
        }
      ]
    }
  ]
}