{
  "nbformat": 4,
  "nbformat_minor": 0,
  "metadata": {
    "colab": {
      "provenance": [],
      "authorship_tag": "ABX9TyMTxf/cko5s8lXkPgdEJfLc",
      "include_colab_link": true
    },
    "kernelspec": {
      "name": "python3",
      "display_name": "Python 3"
    },
    "language_info": {
      "name": "python"
    }
  },
  "cells": [
    {
      "cell_type": "markdown",
      "metadata": {
        "id": "view-in-github",
        "colab_type": "text"
      },
      "source": [
        "<a href=\"https://colab.research.google.com/github/InesAnindiyta/ALPROG/blob/main/week10.ipynb\" target=\"_parent\"><img src=\"https://colab.research.google.com/assets/colab-badge.svg\" alt=\"Open In Colab\"/></a>"
      ]
    },
    {
      "cell_type": "markdown",
      "source": [
        "### Weekly Exercise 1"
      ],
      "metadata": {
        "id": "UGHq5iUxR3ms"
      }
    },
    {
      "cell_type": "code",
      "execution_count": null,
      "metadata": {
        "colab": {
          "base_uri": "https://localhost:8080/"
        },
        "id": "DJRszScIQQMN",
        "outputId": "fb0e8c79-6b7b-416a-d718-59a06870e0d2"
      },
      "outputs": [
        {
          "output_type": "stream",
          "name": "stdout",
          "text": [
            "Masukkan nilai : 10\n",
            "10! = 3628800\n"
          ]
        }
      ],
      "source": [
        "n = int(input('Masukkan nilai : '))\n",
        "\n",
        "def hitung_faktorial (n):\n",
        "  if n > 2:\n",
        "    return n * hitung_faktorial(n - 1)\n",
        "\n",
        "  return 2\n",
        "\n",
        "faktorial = hitung_faktorial(n)\n",
        "print(f'{n}! = {faktorial}')"
      ]
    },
    {
      "cell_type": "markdown",
      "source": [
        "### Weekly Exercise 2"
      ],
      "metadata": {
        "id": "sHlIYaJAR9Ri"
      }
    },
    {
      "cell_type": "code",
      "source": [
        "def luas_lingkaran(jari_jari):\n",
        "    return math.pi * jari_jari ** 2\n",
        "\n",
        "def luas_persegi(sisi):\n",
        "    return sisi ** 2\n",
        "\n",
        "def luas_segitiga(alas, tinggi):\n",
        "    return 0.5 * alas * tinggi\n",
        "\n",
        "def main():\n",
        "    while True:\n",
        "        print(\"\\nKalkulator Luas Bangun Datar\")\n",
        "        print(\"1. Luas Lingkaran\")\n",
        "        print(\"2. Luas Persegi\")\n",
        "        print(\"3. Luas Segitiga\")\n",
        "        print(\"4. Keluar\")\n",
        "\n",
        "        pilihan = input(\"Pilih perhitungan (1/2/3/4): \")\n",
        "\n",
        "        if pilihan == '1':\n",
        "            jari_jari = float(input(\"Masukkan jari-jari lingkaran: \"))\n",
        "            luas = luas_lingkaran(jari_jari)\n",
        "            print(f\"Luas lingkaran dengan jari-jari {jari_jari} adalah {luas:.2f}\")\n",
        "\n",
        "        elif pilihan == '2':\n",
        "            sisi = float(input(\"Masukkan panjang sisi persegi: \"))\n",
        "            luas = luas_persegi(sisi)\n",
        "            print(f\"Luas persegi dengan sisi {sisi} adalah {luas:.2f}\")\n",
        "\n",
        "        elif pilihan == '3':\n",
        "            alas = float(input(\"Masukkan panjang alas segitiga: \"))\n",
        "            tinggi = float(input(\"Masukkan tinggi segitiga: \"))\n",
        "            luas = luas_segitiga(alas, tinggi)\n",
        "            print(f\"Luas segitiga dengan alas {alas} dan tinggi {tinggi} adalah {luas:.2f}\")\n",
        "\n",
        "        elif pilihan == '4':\n",
        "            print(\"Terima kasih! Program selesai.\")\n",
        "            break\n",
        "\n",
        "        else:\n",
        "            print(\"Pilihan tidak valid. Silakan pilih lagi.\")\n",
        "\n",
        "if __name__ == \"__main__\":\n",
        "    main()"
      ],
      "metadata": {
        "colab": {
          "base_uri": "https://localhost:8080/"
        },
        "id": "S1IxM4eQ8DVi",
        "outputId": "b2f2684f-35f1-4e58-b3a1-cf3f51e7fde9"
      },
      "execution_count": 2,
      "outputs": [
        {
          "output_type": "stream",
          "name": "stdout",
          "text": [
            "\n",
            "Kalkulator Luas Bangun Datar\n",
            "1. Luas Lingkaran\n",
            "2. Luas Persegi\n",
            "3. Luas Segitiga\n",
            "4. Keluar\n",
            "Pilih perhitungan (1/2/3/4): 1\n",
            "Masukkan jari-jari lingkaran: 20\n",
            "Luas lingkaran dengan jari-jari 20.0 adalah 1256.64\n",
            "\n",
            "Kalkulator Luas Bangun Datar\n",
            "1. Luas Lingkaran\n",
            "2. Luas Persegi\n",
            "3. Luas Segitiga\n",
            "4. Keluar\n",
            "Pilih perhitungan (1/2/3/4): 2\n",
            "Masukkan panjang sisi persegi: 24\n",
            "Luas persegi dengan sisi 24.0 adalah 576.00\n",
            "\n",
            "Kalkulator Luas Bangun Datar\n",
            "1. Luas Lingkaran\n",
            "2. Luas Persegi\n",
            "3. Luas Segitiga\n",
            "4. Keluar\n",
            "Pilih perhitungan (1/2/3/4): 3\n",
            "Masukkan panjang alas segitiga: 15\n",
            "Masukkan tinggi segitiga: 5\n",
            "Luas segitiga dengan alas 15.0 dan tinggi 5.0 adalah 37.50\n",
            "\n",
            "Kalkulator Luas Bangun Datar\n",
            "1. Luas Lingkaran\n",
            "2. Luas Persegi\n",
            "3. Luas Segitiga\n",
            "4. Keluar\n",
            "Pilih perhitungan (1/2/3/4): 4\n",
            "Terima kasih! Program selesai.\n"
          ]
        }
      ]
    }
  ]
}