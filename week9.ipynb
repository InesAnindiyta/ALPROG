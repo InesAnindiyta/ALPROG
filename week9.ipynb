{
  "nbformat": 4,
  "nbformat_minor": 0,
  "metadata": {
    "colab": {
      "provenance": [],
      "authorship_tag": "ABX9TyNwLsHK9aBaDRrAjJjM3aE7",
      "include_colab_link": true
    },
    "kernelspec": {
      "name": "python3",
      "display_name": "Python 3"
    },
    "language_info": {
      "name": "python"
    }
  },
  "cells": [
    {
      "cell_type": "markdown",
      "metadata": {
        "id": "view-in-github",
        "colab_type": "text"
      },
      "source": [
        "<a href=\"https://colab.research.google.com/github/InesAnindiyta/ALPROG/blob/main/week9.ipynb\" target=\"_parent\"><img src=\"https://colab.research.google.com/assets/colab-badge.svg\" alt=\"Open In Colab\"/></a>"
      ]
    },
    {
      "cell_type": "markdown",
      "source": [
        "### weekly exercise 2"
      ],
      "metadata": {
        "id": "552muNBtUlUV"
      }
    },
    {
      "cell_type": "code",
      "source": [
        "data_mahasiswa = {\n",
        "    \"Nama\": \"ines anindiyta\",\n",
        "    \"Kelas\": \"rombel 2\",\n",
        "    \"Tanggal Lahir\": \"06-02-2006\",\n",
        "    \"No HP\": \"000\",\n",
        "    \"Alamat\": \"magelang\",\n",
        "    \"Hobi\": [\"Membaca\", \"Menulis\", \"bulu tangkis\"]\n",
        "}\n",
        "\n",
        "for key, value in data_mahasiswa.items():\n",
        "  if key == \"Hobi\":\n",
        "    print(key + \":\")\n",
        "    for hobi in value:\n",
        "      print(\"- \" + hobi)\n",
        "  else:\n",
        "    print(key + \": \" + value)"
      ],
      "metadata": {
        "colab": {
          "base_uri": "https://localhost:8080/"
        },
        "id": "_mmRlB1KzryC",
        "outputId": "10a1dd97-f6b4-478e-ad85-b37aca1f3a9c"
      },
      "execution_count": null,
      "outputs": [
        {
          "output_type": "stream",
          "name": "stdout",
          "text": [
            "Nama: ines anindiyta\n",
            "Kelas: rombel 2\n",
            "Tanggal Lahir: 06-02-2006\n",
            "No HP: 000\n",
            "Alamat: magelang\n",
            "Hobi:\n",
            "- Membaca\n",
            "- Menulis\n",
            "- bulu tangkis\n"
          ]
        }
      ]
    }
  ]
}