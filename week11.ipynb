{
  "nbformat": 4,
  "nbformat_minor": 0,
  "metadata": {
    "colab": {
      "provenance": [],
      "authorship_tag": "ABX9TyPXCWB+u/pBk26mqaYcOKPt",
      "include_colab_link": true
    },
    "kernelspec": {
      "name": "python3",
      "display_name": "Python 3"
    },
    "language_info": {
      "name": "python"
    }
  },
  "cells": [
    {
      "cell_type": "markdown",
      "metadata": {
        "id": "view-in-github",
        "colab_type": "text"
      },
      "source": [
        "<a href=\"https://colab.research.google.com/github/InesAnindiyta/ALPROG/blob/main/week11.ipynb\" target=\"_parent\"><img src=\"https://colab.research.google.com/assets/colab-badge.svg\" alt=\"Open In Colab\"/></a>"
      ]
    },
    {
      "cell_type": "markdown",
      "source": [
        "## exercise 1"
      ],
      "metadata": {
        "id": "SocbcJxDr0Z2"
      }
    },
    {
      "cell_type": "code",
      "execution_count": 3,
      "metadata": {
        "colab": {
          "base_uri": "https://localhost:8080/"
        },
        "id": "j7dIV8MPajfE",
        "outputId": "c346a160-e616-49bb-c791-3a5715d01d66"
      },
      "outputs": [
        {
          "output_type": "stream",
          "name": "stdout",
          "text": [
            "masukkan jari-jari:15\n",
            "luas lingkaran adalah: 706.8583470577034\n",
            "masukkan alas:8\n",
            "masukkan tinggi:14\n",
            "luas segitiga adalah: 56.0\n"
          ]
        }
      ],
      "source": [
        "import math\n",
        "\n",
        "jari_jari =float(input(\"masukkan jari-jari:\"))\n",
        "luas_lingkaran = math.pi * jari_jari**2\n",
        "print(\"luas lingkaran adalah:\",luas_lingkaran)\n",
        "\n",
        "alas = float(input(\"masukkan alas:\"))\n",
        "tinggi = float(input(\"masukkan tinggi:\"))\n",
        "luas_segitiga = 0.5 * alas * tinggi\n",
        "print(\"luas segitiga adalah:\",luas_segitiga)"
      ]
    },
    {
      "cell_type": "markdown",
      "source": [
        "## exercise 2"
      ],
      "metadata": {
        "id": "Dqesnux1r94y"
      }
    },
    {
      "cell_type": "code",
      "source": [
        "import math\n",
        "\n",
        "angka = 16\n",
        "akar_kuadrat = math.sqrt(angka)\n",
        "print(f\"Akar kuadrat dari {angka} adalah: {akar_kuadrat}\")\n",
        "\n",
        "basis = 2\n",
        "eksponen = 3\n",
        "pangkat = math.pow(basis, eksponen)\n",
        "print(f\"{basis} pangkat {eksponen} adalah: {pangkat}\")\n",
        "\n",
        "angka_faktorial = 5\n",
        "faktorial = math.factorial(angka_faktorial)\n",
        "print(f\"Faktorial dari {angka_faktorial} adalah: {faktorial}\")\n",
        "\n",
        "sudut = math.radians(30)\n",
        "sinus = math.sin(sudut)\n",
        "print(f\"Sinus dari 30 derajat adalah: {sinus}\")\n",
        "\n",
        "\n",
        "lingkaran_radius = 7\n",
        "luas_lingkaran = math.pi * (lingkaran_radius ** 2)\n",
        "print(f\"Luas lingkaran dengan radius {lingkaran_radius} adalah: {luas_lingkaran}\")"
      ],
      "metadata": {
        "colab": {
          "base_uri": "https://localhost:8080/"
        },
        "id": "cKKV58berZrs",
        "outputId": "fb76f5ee-633c-40a9-cca1-b4d09ef51863"
      },
      "execution_count": 5,
      "outputs": [
        {
          "output_type": "stream",
          "name": "stdout",
          "text": [
            "Akar kuadrat dari 16 adalah: 4.0\n",
            "2 pangkat 3 adalah: 8.0\n",
            "Faktorial dari 5 adalah: 120\n",
            "Sinus dari 30 derajat adalah: 0.49999999999999994\n",
            "Luas lingkaran dengan radius 7 adalah: 153.93804002589985\n"
          ]
        }
      ]
    }
  ]
}