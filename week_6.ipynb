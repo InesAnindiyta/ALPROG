{
  "nbformat": 4,
  "nbformat_minor": 0,
  "metadata": {
    "colab": {
      "provenance": [],
      "authorship_tag": "ABX9TyOaqMmpBnArcq4UsLdcmk42",
      "include_colab_link": true
    },
    "kernelspec": {
      "name": "python3",
      "display_name": "Python 3"
    },
    "language_info": {
      "name": "python"
    }
  },
  "cells": [
    {
      "cell_type": "markdown",
      "metadata": {
        "id": "view-in-github",
        "colab_type": "text"
      },
      "source": [
        "<a href=\"https://colab.research.google.com/github/InesAnindiyta/ALPROG/blob/main/week_6.ipynb\" target=\"_parent\"><img src=\"https://colab.research.google.com/assets/colab-badge.svg\" alt=\"Open In Colab\"/></a>"
      ]
    },
    {
      "cell_type": "markdown",
      "source": [
        "### exercise 1"
      ],
      "metadata": {
        "id": "cqxEfFFAFmRY"
      }
    },
    {
      "cell_type": "code",
      "source": [
        "baris = int(input(\"Masukkan jumlah baris: \"))\n",
        "\n",
        "for i in range(baris):\n",
        "  for j in range(baris-i-1):\n",
        "    print(' ', end='')\n",
        "  for j in range(i+1):\n",
        "    print('* ', end='')\n",
        "  print()"
      ],
      "metadata": {
        "colab": {
          "base_uri": "https://localhost:8080/"
        },
        "id": "milC2LwAOb0e",
        "outputId": "508c85e1-6c28-4413-ab12-cbace98bf686"
      },
      "execution_count": null,
      "outputs": [
        {
          "output_type": "stream",
          "name": "stdout",
          "text": [
            "Masukkan jumlah baris: 6\n",
            "     * \n",
            "    * * \n",
            "   * * * \n",
            "  * * * * \n",
            " * * * * * \n",
            "* * * * * * \n"
          ]
        }
      ]
    },
    {
      "cell_type": "markdown",
      "source": [
        "### exercise 2"
      ],
      "metadata": {
        "id": "kZyhv3q9FtDf"
      }
    },
    {
      "cell_type": "code",
      "source": [
        "baris = int(input(\"Masukkan jumlah baris: \"))\n",
        "\n",
        "for i in range(baris):\n",
        "  for j in range(baris-i-1):\n",
        "    print(' ', end='')\n",
        "\n",
        "  angka = 1\n",
        "  for j in range(i+1):\n",
        "    print(angka, end=' ')\n",
        "    angka = angka * (i - j) // (j + 1)\n",
        "  print()"
      ],
      "metadata": {
        "colab": {
          "base_uri": "https://localhost:8080/"
        },
        "id": "7-IWhflrOvH1",
        "outputId": "d78e2b41-5fb7-478d-8654-18c9e509d0fe"
      },
      "execution_count": null,
      "outputs": [
        {
          "output_type": "stream",
          "name": "stdout",
          "text": [
            "Masukkan jumlah baris: 6\n",
            "     1 \n",
            "    1 1 \n",
            "   1 2 1 \n",
            "  1 3 3 1 \n",
            " 1 4 6 4 1 \n",
            "1 5 10 10 5 1 \n"
          ]
        }
      ]
    },
    {
      "cell_type": "markdown",
      "source": [
        "### exercise 3"
      ],
      "metadata": {
        "id": "aR6RAat4WgHw"
      }
    },
    {
      "cell_type": "code",
      "source": [
        "jumlah_baris = int(input(\"Masukkan angka: \"))\n",
        "pascal = []\n",
        "\n",
        "for i in range(jumlah_baris):\n",
        "    baris = []\n",
        "    for j in range(i + 1):\n",
        "        if j == 0 or j == i:\n",
        "            baris.append(1)\n",
        "        else:\n",
        "            baris.append(pascal[i - 1][j - 1] + pascal[i - 1][j])\n",
        "    pascal.append(baris)\n",
        "\n",
        "if jumlah_baris > 0:\n",
        "    angka_baris_terakhir = pascal[jumlah_baris - 1]\n",
        "    print(\"Angka dalam satu baris Segitiga Pascal adalah:\", end=' ')\n",
        "    for angka in angka_baris_terakhir:\n",
        "        print(angka, end=' ')\n",
        "    print()\n",
        "    jumlah_angka = 0\n",
        "    for angka in angka_baris_terakhir:\n",
        "        jumlah_angka += angka\n",
        "    print(\"Jumlah angka dalam satu baris Segitiga Pascal adalah:\", jumlah_angka)\n",
        "else:\n",
        "    print(\"Jumlah baris harus lebih besar dari angka 0.\")"
      ],
      "metadata": {
        "colab": {
          "base_uri": "https://localhost:8080/"
        },
        "outputId": "0289b087-97c7-4f9d-ebd0-a311c130a528",
        "id": "W9e5qor_ZSXi"
      },
      "execution_count": null,
      "outputs": [
        {
          "output_type": "stream",
          "name": "stdout",
          "text": [
            "Masukkan angka: 3\n",
            "Angka dalam satu baris Segitiga Pascal adalah: 1 2 1 \n",
            "Jumlah angka dalam satu baris Segitiga Pascal adalah: 4\n"
          ]
        }
      ]
    }
  ]
}