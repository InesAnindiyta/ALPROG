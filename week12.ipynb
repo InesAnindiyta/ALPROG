{
  "nbformat": 4,
  "nbformat_minor": 0,
  "metadata": {
    "colab": {
      "provenance": [],
      "authorship_tag": "ABX9TyOlO8Qmq9D0eQBCQNlZBgH/",
      "include_colab_link": true
    },
    "kernelspec": {
      "name": "python3",
      "display_name": "Python 3"
    },
    "language_info": {
      "name": "python"
    }
  },
  "cells": [
    {
      "cell_type": "markdown",
      "metadata": {
        "id": "view-in-github",
        "colab_type": "text"
      },
      "source": [
        "<a href=\"https://colab.research.google.com/github/InesAnindiyta/ALPROG/blob/main/week12.ipynb\" target=\"_parent\"><img src=\"https://colab.research.google.com/assets/colab-badge.svg\" alt=\"Open In Colab\"/></a>"
      ]
    },
    {
      "cell_type": "markdown",
      "source": [
        "### exercise 1"
      ],
      "metadata": {
        "id": "dt7hJQSvJ7DK"
      }
    },
    {
      "cell_type": "code",
      "source": [
        "import math\n",
        "\n",
        "def input_float(prompt):\n",
        "    while True:\n",
        "        try:\n",
        "            value = input(prompt)\n",
        "            if value.strip() == \"\":\n",
        "                raise ValueError(\"tidak boleh kosong\")\n",
        "            return float(value)\n",
        "        except ValueError as e:\n",
        "            print(e)\n",
        "            print(\"hanya boleh memasukkan angka.\")\n",
        "\n",
        "try:\n",
        "    jari_jari = input_float(\"Masukkan jari-jari: \")\n",
        "    luas_lingkaran = math.pi * jari_jari ** 2\n",
        "    print(\"Luas lingkaran adalah:\", luas_lingkaran)\n",
        "except Exception as e:\n",
        "    print(\"Terjadi kesalahan:\", e)\n",
        "\n",
        "try:\n",
        "    alas = input_float(\"Masukkan alas: \")\n",
        "    tinggi = input_float(\"Masukkan tinggi: \")\n",
        "    luas_segitiga = 0.5 * alas * tinggi\n",
        "    print(\"Luas segitiga adalah:\", luas_segitiga)\n",
        "except Exception as e:\n",
        "    print(\"Terjadi kesalahan:\", e)1"
      ],
      "metadata": {
        "colab": {
          "base_uri": "https://localhost:8080/"
        },
        "id": "DzJnybaJJ8xN",
        "outputId": "14f18efd-e574-4ff9-d027-d530c9c65e44"
      },
      "execution_count": 1,
      "outputs": [
        {
          "output_type": "stream",
          "name": "stdout",
          "text": [
            "Masukkan jari-jari: \n",
            "tidak boleh kosong\n",
            "hanya boleh memasukkan angka.\n",
            "Masukkan jari-jari: /\n",
            "could not convert string to float: '/'\n",
            "hanya boleh memasukkan angka.\n",
            "Masukkan jari-jari: 10\n",
            "Luas lingkaran adalah: 314.1592653589793\n",
            "Masukkan alas: 3\n",
            "Masukkan tinggi: 2\n",
            "Luas segitiga adalah: 3.0\n"
          ]
        }
      ]
    },
    {
      "cell_type": "markdown",
      "source": [
        "### exercise 2"
      ],
      "metadata": {
        "id": "bGY8DpdJowSh"
      }
    },
    {
      "cell_type": "code",
      "source": [
        "try:\n",
        "    npm = input(\"Masukkan NPM Anda: \")\n",
        "\n",
        "    if npm.strip() == \"\":\n",
        "        raise ValueError(\"NPM tidak boleh kosong.\")\n",
        "\n",
        "    jumlah_genap = 0\n",
        "    jumlah_ganjil = 0\n",
        "\n",
        "    for digit in npm:\n",
        "        if not digit.isdigit():\n",
        "            raise ValueError(\"NPM harus terdiri dari angka saja.\")\n",
        "\n",
        "        angka = int(digit)\n",
        "        if angka % 2 == 0:\n",
        "            jumlah_genap += 1\n",
        "        else:\n",
        "            jumlah_ganjil += 1\n",
        "\n",
        "    print(\"Jumlah bilangan genap:\", jumlah_genap)\n",
        "    print(\"Jumlah bilangan ganjil:\", jumlah_ganjil)\n",
        "\n",
        "except ValueError as e:\n",
        "    print(e)"
      ],
      "metadata": {
        "colab": {
          "base_uri": "https://localhost:8080/"
        },
        "id": "1j4wSrL6oCp6",
        "outputId": "2f62586b-58fe-4f05-d3de-c12ea24dec56"
      },
      "execution_count": 2,
      "outputs": [
        {
          "output_type": "stream",
          "name": "stdout",
          "text": [
            "Masukkan NPM Anda: =\n",
            "NPM harus terdiri dari angka saja.\n"
          ]
        }
      ]
    }
  ]
}