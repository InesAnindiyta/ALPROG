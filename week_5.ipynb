{
  "nbformat": 4,
  "nbformat_minor": 0,
  "metadata": {
    "colab": {
      "provenance": [],
      "authorship_tag": "ABX9TyMCsCtH+VVxxtIDOHPV6X4M",
      "include_colab_link": true
    },
    "kernelspec": {
      "name": "python3",
      "display_name": "Python 3"
    },
    "language_info": {
      "name": "python"
    }
  },
  "cells": [
    {
      "cell_type": "markdown",
      "metadata": {
        "id": "view-in-github",
        "colab_type": "text"
      },
      "source": [
        "<a href=\"https://colab.research.google.com/github/InesAnindiyta/ALPROG/blob/main/week_5.ipynb\" target=\"_parent\"><img src=\"https://colab.research.google.com/assets/colab-badge.svg\" alt=\"Open In Colab\"/></a>"
      ]
    },
    {
      "cell_type": "markdown",
      "source": [
        "### Nested IF in Python"
      ],
      "metadata": {
        "id": "m7VtfNDvF6_N"
      }
    },
    {
      "cell_type": "markdown",
      "source": [
        "## Weekly Exercise 1"
      ],
      "metadata": {
        "id": "HB9Kxw1yF_sb"
      }
    },
    {
      "cell_type": "code",
      "source": [
        "tahun = int(input(\"masukkan tahun: \"))\n",
        "\n",
        "habis_dibagi_400 = tahun % 400 == 0\n",
        "habis_dibagi_100 = tahun % 100 == 0\n",
        "habis_dibagi_4 = tahun % 4 == 0\n",
        "\n",
        "if habis_dibagi_400:\n",
        "  print(f'{tahun} adalah tahun kabisat')\n",
        "elif habis_dibagi_4 and not habis_dibagi_100:\n",
        "  print(f'{tahun} adalah tahun kabisat')\n",
        "else:\n",
        "  print(f'{tahun} bukan tahun kabisat')"
      ],
      "metadata": {
        "colab": {
          "base_uri": "https://localhost:8080/"
        },
        "id": "ejwh4iGZUCGC",
        "outputId": "e60c78f6-f39e-4340-bdbb-0e2a3535bbd2"
      },
      "execution_count": null,
      "outputs": [
        {
          "output_type": "stream",
          "name": "stdout",
          "text": [
            "masukkan tahun: 2017\n",
            "2017 bukan tahun kabisat\n"
          ]
        }
      ]
    },
    {
      "cell_type": "code",
      "source": [
        "angka_1 = int(input(\"masukkan angka pertama\"))\n",
        "angka_2 = int(input(\"masukkan angka kedua\"))\n",
        "angka_3 = int(input(\"masukkan angka ketiga\"))\n",
        "\n",
        "if angka_1 > angka_2 and angka_1 > angka_3:\n",
        "  print(\"Angka terbesar adalah\", angka_1)\n",
        "elif angka_2 > angka_1 and angka_2 > angka_3:\n",
        "  print(\"Angka terbesar adalah\", angka_2)\n",
        "elif angka_3 > angka_1 and angka_3 > angka_2:\n",
        "  print(\"Angka terbesar adalah\", angka_3)\n",
        "elif angka_1 == angka_2 and angka_1 > angka_3:\n",
        "  print(\"Angka terbesar adalah, angka_1 dan angka_2\")\n",
        "elif angka_1 == angka_3 and angka_1 > angka_2:\n",
        "  print(\"Angka terbesar adalah, angka_1 dan angka_3\")\n",
        "elif angka_2 == angka_3 and angka_2 > angka_1:\n",
        "  print(\"Angka terbesar adalah, angka_2 dan angka_3\")\n",
        "elif angka_2 == angka_1 and angka_2 > angka_3:\n",
        "  print(\"Angka terbesr adalah, angka_1 dan angka_2\")\n",
        "elif angka_3 == angka_3 and angka_1 > angka_2:\n",
        "  print(\"Angka terbesar adalah, angka_1 dan angka_3\")\n",
        "elif angka_3 == angka_3 and angka_2 > angka_1:\n",
        "  print(\"Angka terbesar adalah, angka_2 dan angka_3\")\n",
        "else:\n",
        "  print(\"semua angka sama\")"
      ],
      "metadata": {
        "colab": {
          "base_uri": "https://localhost:8080/"
        },
        "id": "GNfZil36MUcq",
        "outputId": "cd00109b-fffc-4ce3-d2aa-0b1b0aca0d32"
      },
      "execution_count": null,
      "outputs": [
        {
          "output_type": "stream",
          "name": "stdout",
          "text": [
            "masukkan angka pertama20\n",
            "masukkan angka kedua20\n",
            "masukkan angka ketiga10\n",
            "Angka terbesar adalah, angka_1 dan angka_2\n"
          ]
        }
      ]
    },
    {
      "cell_type": "code",
      "source": [
        "jumlah =int(input(\"masukkan total pembelian\\n\"))\n",
        "tanya_diskon = input(\"ada member?\\n\")\n",
        "\n",
        "\n",
        "if jumlah >= 200000:\n",
        "  diskon = 0.04\n",
        "elif jumlah >= 100000:\n",
        "  diskon = 0.03\n",
        "if tanya_diskon == \"ya\":\n",
        "  diskon = 0.02\n",
        "else:\n",
        "  diskon = 0\n",
        "jumlah_diskon = jumlah * diskon\n",
        "jumlah_bayar = jumlah - jumlah_diskon\n",
        "print(f\"jumlah yang harus dibayar adalah {jumlah_bayar}\")\n",
        "print(f\"jumlah diskon adalah {jumlah_diskon}\")"
      ],
      "metadata": {
        "id": "zR72urwzaoEU",
        "colab": {
          "base_uri": "https://localhost:8080/"
        },
        "outputId": "52bb04e4-c9b9-4d20-9e27-bb3289058e71"
      },
      "execution_count": null,
      "outputs": [
        {
          "output_type": "stream",
          "name": "stdout",
          "text": [
            "masukkan total pembelian\n",
            "150000\n",
            "ada member?\n",
            "ya\n",
            "jumlah yang harus dibayar adalah 147000.0\n",
            "jumlah diskon adalah 3000.0\n"
          ]
        }
      ]
    },
    {
      "cell_type": "code",
      "source": [
        "username = \"\"\n",
        "email = \"\"\n",
        "password = \"\"\n",
        "while username == \"\":\n",
        "  username = input(\"masukkan username: \")\n",
        "while email == \"\":\n",
        "  email = input(\"masukkan email: \")\n",
        "  if email.find(\"@\") == -1:\n",
        "    print(\"email tidak valid\")\n",
        "    email = \"\"\n",
        "  else:\n",
        "    print(\"email valid\")\n",
        "while len(password) >= 8:\n",
        "  password = input(\"masukkan password: \")\n",
        "while len(password) < 8:\n",
        "  print(\"password harus lebih dari 8 karakter\")\n",
        "  password = input(\"masukkan password: \")\n",
        "  if len(password) >= 8:\n",
        "    print(\"user baru berhasil dibuat\")\n",
        "  else:\n",
        "    print(\"password harus lebih dari 8 karakter\")\n",
        "    print(\"password gagal dibuat\")\n",
        "print(f\"username: {username}\")\n",
        "print(f\"email: {email}\")\n",
        "print(f\"password: {password}\")\n"
      ],
      "metadata": {
        "id": "FYnRpwwuVsBS",
        "colab": {
          "base_uri": "https://localhost:8080/"
        },
        "outputId": "043f1e6b-a8b0-4ef4-8772-0bb7d09f2a89"
      },
      "execution_count": 8,
      "outputs": [
        {
          "output_type": "stream",
          "name": "stdout",
          "text": [
            "masukkan username: \n",
            "masukkan username: salsa\n",
            "masukkan email: salsabila\n",
            "email tidak valid\n",
            "masukkan email: salsabila@gmail.com\n",
            "email valid\n",
            "password harus lebih dari 8 karakter\n",
            "masukkan password: 1234\n",
            "password harus lebih dari 8 karakter\n",
            "password gagal dibuat\n",
            "password harus lebih dari 8 karakter\n",
            "masukkan password: belajarpython\n",
            "user baru berhasil dibuat\n",
            "username: salsa\n",
            "email: salsabila@gmail.com\n",
            "password: belajarpython\n"
          ]
        }
      ]
    }
  ]
}