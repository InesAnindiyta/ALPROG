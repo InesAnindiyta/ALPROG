{
  "nbformat": 4,
  "nbformat_minor": 0,
  "metadata": {
    "colab": {
      "provenance": [],
      "authorship_tag": "ABX9TyN6nG8Sdz72QnOPGzfImUkN",
      "include_colab_link": true
    },
    "kernelspec": {
      "name": "python3",
      "display_name": "Python 3"
    },
    "language_info": {
      "name": "python"
    }
  },
  "cells": [
    {
      "cell_type": "markdown",
      "metadata": {
        "id": "view-in-github",
        "colab_type": "text"
      },
      "source": [
        "<a href=\"https://colab.research.google.com/github/InesAnindiyta/ALPROG/blob/main/week_4.ipynb\" target=\"_parent\"><img src=\"https://colab.research.google.com/assets/colab-badge.svg\" alt=\"Open In Colab\"/></a>"
      ]
    },
    {
      "cell_type": "code",
      "metadata": {
        "id": "97eGCuOJaVKx",
        "colab": {
          "base_uri": "https://localhost:8080/"
        },
        "outputId": "aca0482b-6d01-4874-9ad0-8ff47ef5c5c7"
      },
      "source": [
        "# Condition Equal\n",
        "\n",
        "a = 5\n",
        "a == 6"
      ],
      "execution_count": null,
      "outputs": [
        {
          "output_type": "execute_result",
          "data": {
            "text/plain": [
              "False"
            ]
          },
          "metadata": {},
          "execution_count": 3
        }
      ]
    },
    {
      "cell_type": "code",
      "metadata": {
        "id": "mOdqr_0caVK2",
        "colab": {
          "base_uri": "https://localhost:8080/"
        },
        "outputId": "9feca2c4-e577-4ed2-afa0-bc8879e7e07f"
      },
      "source": [
        "# Greater than Sign\n",
        "\n",
        "i = 6\n",
        "i > 5"
      ],
      "execution_count": null,
      "outputs": [
        {
          "output_type": "execute_result",
          "data": {
            "text/plain": [
              "True"
            ]
          },
          "metadata": {},
          "execution_count": 4
        }
      ]
    },
    {
      "cell_type": "code",
      "metadata": {
        "id": "DLChl_lpaVK5",
        "colab": {
          "base_uri": "https://localhost:8080/"
        },
        "outputId": "512f6ab4-ff26-4f27-f1ea-4fe610a563b4"
      },
      "source": [
        "# Greater than Sign\n",
        "\n",
        "i = 2\n",
        "i > 5"
      ],
      "execution_count": null,
      "outputs": [
        {
          "output_type": "execute_result",
          "data": {
            "text/plain": [
              "False"
            ]
          },
          "metadata": {},
          "execution_count": 5
        }
      ]
    },
    {
      "cell_type": "code",
      "metadata": {
        "id": "D0gO-S8raVK9",
        "colab": {
          "base_uri": "https://localhost:8080/"
        },
        "outputId": "588afe5a-16c2-49ed-d4d5-1a3a95afb476"
      },
      "source": [
        "# Inequality Sign\n",
        "\n",
        "i = 2\n",
        "i != 6"
      ],
      "execution_count": null,
      "outputs": [
        {
          "output_type": "execute_result",
          "data": {
            "text/plain": [
              "True"
            ]
          },
          "metadata": {},
          "execution_count": 6
        }
      ]
    },
    {
      "cell_type": "code",
      "metadata": {
        "id": "OUGQA8v5aVLC",
        "colab": {
          "base_uri": "https://localhost:8080/"
        },
        "outputId": "cc279289-dbbd-43c3-f53a-8ddceda18ca4"
      },
      "source": [
        "# Inequality Sign\n",
        "\n",
        "i = 6\n",
        "i != 6"
      ],
      "execution_count": null,
      "outputs": [
        {
          "output_type": "execute_result",
          "data": {
            "text/plain": [
              "False"
            ]
          },
          "metadata": {},
          "execution_count": 7
        }
      ]
    },
    {
      "cell_type": "code",
      "metadata": {
        "id": "I9Vk58gJaVLI",
        "colab": {
          "base_uri": "https://localhost:8080/"
        },
        "outputId": "eb8705fe-2b11-4953-ce4b-00e4d5a450f2"
      },
      "source": [
        "# Use Equality sign to compare the strings\n",
        "\n",
        "\"ACDC\" == \"Michael Jackson\""
      ],
      "execution_count": null,
      "outputs": [
        {
          "output_type": "execute_result",
          "data": {
            "text/plain": [
              "False"
            ]
          },
          "metadata": {},
          "execution_count": 8
        }
      ]
    },
    {
      "cell_type": "code",
      "metadata": {
        "id": "udrml-kPaVLL",
        "colab": {
          "base_uri": "https://localhost:8080/"
        },
        "outputId": "0faf4b58-36da-4dc2-9526-8884aae7d309"
      },
      "source": [
        "# Use Inequality sign to compare the strings\n",
        "\n",
        "\"ACDC\" != \"Michael Jackson\""
      ],
      "execution_count": null,
      "outputs": [
        {
          "output_type": "execute_result",
          "data": {
            "text/plain": [
              "True"
            ]
          },
          "metadata": {},
          "execution_count": 9
        }
      ]
    },
    {
      "cell_type": "code",
      "metadata": {
        "id": "qmPbR08raVLO",
        "colab": {
          "base_uri": "https://localhost:8080/"
        },
        "outputId": "f999f4b5-d714-4969-a11e-6a73f3b5dae4"
      },
      "source": [
        "# Compare characters\n",
        "\n",
        "'B' > 'A'"
      ],
      "execution_count": null,
      "outputs": [
        {
          "output_type": "execute_result",
          "data": {
            "text/plain": [
              "True"
            ]
          },
          "metadata": {},
          "execution_count": 11
        }
      ]
    },
    {
      "cell_type": "code",
      "metadata": {
        "id": "zJ7BYwiUaVLR",
        "colab": {
          "base_uri": "https://localhost:8080/"
        },
        "outputId": "5e516b54-9b56-4c3d-fb45-e5571157d0f5"
      },
      "source": [
        "# Compare characters\n",
        "\n",
        "'BA' > 'AB'"
      ],
      "execution_count": null,
      "outputs": [
        {
          "output_type": "execute_result",
          "data": {
            "text/plain": [
              "True"
            ]
          },
          "metadata": {},
          "execution_count": 12
        }
      ]
    },
    {
      "cell_type": "code",
      "source": [
        "\"ba\" >= 'ba'"
      ],
      "metadata": {
        "id": "2AqRwCED8frp",
        "colab": {
          "base_uri": "https://localhost:8080/"
        },
        "outputId": "90b1628d-d57b-485c-de3d-8f44387d9d1e"
      },
      "execution_count": null,
      "outputs": [
        {
          "output_type": "execute_result",
          "data": {
            "text/plain": [
              "True"
            ]
          },
          "metadata": {},
          "execution_count": 13
        }
      ]
    },
    {
      "cell_type": "code",
      "metadata": {
        "id": "7ur-G02maVLV",
        "colab": {
          "base_uri": "https://localhost:8080/"
        },
        "outputId": "409a7125-3e07-4d92-bb45-93568647bc98"
      },
      "source": [
        "# If statement example\n",
        "\n",
        "#age = 19\n",
        "age = 18\n",
        "\n",
        "#expression that can be true or false\n",
        "if age > 18:\n",
        "\n",
        "    #within an indent, we have the expression that is run if the condition is true\n",
        "    print(\"you can enter\" )\n",
        "\n",
        "#The statements after the if statement will run regardless if the condition is true or false\n",
        "print(\"move on\")"
      ],
      "execution_count": null,
      "outputs": [
        {
          "output_type": "stream",
          "name": "stdout",
          "text": [
            "move on\n"
          ]
        }
      ]
    },
    {
      "cell_type": "code",
      "metadata": {
        "id": "AXStLmfsaVLd",
        "colab": {
          "base_uri": "https://localhost:8080/"
        },
        "outputId": "68d16746-b63e-43a5-b7b3-a602bbb2267c"
      },
      "source": [
        "# Else statement example\n",
        "\n",
        "#age = 17\n",
        "age = 19\n",
        "\n",
        "if age > 18:\n",
        "    print(\"you can enter\" )\n",
        "else:\n",
        "    print(\"go see Meat Loaf\" )\n",
        "    #print(\"move on\")\n",
        "\n",
        "print(\"move on\")"
      ],
      "execution_count": null,
      "outputs": [
        {
          "output_type": "stream",
          "name": "stdout",
          "text": [
            "you can enter\n",
            "move on\n"
          ]
        }
      ]
    },
    {
      "cell_type": "code",
      "metadata": {
        "id": "C4_J-V8AaVLn",
        "colab": {
          "base_uri": "https://localhost:8080/"
        },
        "outputId": "92727759-d791-45bd-f5d3-3cab124aa9ce"
      },
      "source": [
        "# Elif statment example\n",
        "\n",
        "age = 18\n",
        "\n",
        "if age > 18:\n",
        "    print(\"you can enter\" )\n",
        "elif age == 18:\n",
        "    print(\"go see Pink Floyd\")\n",
        "else:\n",
        "    print(\"go see Meat Loaf\" )\n",
        "\n",
        "print(\"move on\")"
      ],
      "execution_count": null,
      "outputs": [
        {
          "output_type": "stream",
          "name": "stdout",
          "text": [
            "go see Pink Floyd\n",
            "move on\n"
          ]
        }
      ]
    },
    {
      "cell_type": "code",
      "metadata": {
        "id": "ryOwoKyRaVLt",
        "colab": {
          "base_uri": "https://localhost:8080/"
        },
        "outputId": "5c465d5a-4e02-4bcf-f18e-75a993b78a79"
      },
      "source": [
        "# Condition statement example\n",
        "\n",
        "album_year = 1983\n",
        "#album_year = 1970\n",
        "\n",
        "if album_year > 1980:\n",
        "    print(\"Album year is greater than 1980\")\n",
        "\n",
        "print('do something..')"
      ],
      "execution_count": null,
      "outputs": [
        {
          "output_type": "stream",
          "name": "stdout",
          "text": [
            "Album year is greater than 1980\n",
            "do something..\n"
          ]
        }
      ]
    },
    {
      "cell_type": "code",
      "metadata": {
        "id": "rj3LZOtnaVLy",
        "colab": {
          "base_uri": "https://localhost:8080/"
        },
        "outputId": "22854200-ef8f-44d8-eeff-9fe6039aa8b2"
      },
      "source": [
        "# Condition statement example\n",
        "\n",
        "#album_year = 1983\n",
        "album_year = 1970\n",
        "\n",
        "if album_year > 1980:\n",
        "    print(\"Album year is greater than 1980\")\n",
        "else:\n",
        "    print(\"less than 1980\")\n",
        "\n",
        "print('do something..')"
      ],
      "execution_count": null,
      "outputs": [
        {
          "output_type": "stream",
          "name": "stdout",
          "text": [
            "less than 1980\n",
            "do something..\n"
          ]
        }
      ]
    },
    {
      "cell_type": "code",
      "metadata": {
        "id": "R77zgNwUaVL7",
        "colab": {
          "base_uri": "https://localhost:8080/"
        },
        "outputId": "458f0f2d-aff5-4d2c-9e01-9738f2e42609"
      },
      "source": [
        "# Condition statement example\n",
        "\n",
        "album_year = 1980\n",
        "\n",
        "if(album_year > 1979) and (album_year < 1990):\n",
        "    print (\"Album year was in between 1980 and 1989\")\n",
        "\n",
        "print(\"\")\n",
        "print(\"Do Stuff..\")"
      ],
      "execution_count": null,
      "outputs": [
        {
          "output_type": "stream",
          "name": "stdout",
          "text": [
            "Album year was in between 1980 and 1989\n",
            "\n",
            "Do Stuff..\n"
          ]
        }
      ]
    },
    {
      "cell_type": "code",
      "metadata": {
        "id": "YQ9Sp1NBaVL_",
        "colab": {
          "base_uri": "https://localhost:8080/"
        },
        "outputId": "0f0b0854-c9ab-4b24-d482-dfd3d5af324a"
      },
      "source": [
        "# Condition statement example\n",
        "\n",
        "album_year = 1978\n",
        "\n",
        "if(album_year < 1980) or (album_year > 1989):\n",
        "    print (\"Album was not made in the 1980's\")\n",
        "else:\n",
        "    print(\"The Album was made in the 1980's \")"
      ],
      "execution_count": null,
      "outputs": [
        {
          "output_type": "stream",
          "name": "stdout",
          "text": [
            "Album was not made in the 1980's\n"
          ]
        }
      ]
    },
    {
      "cell_type": "code",
      "metadata": {
        "id": "KPlrMNesaVMC",
        "colab": {
          "base_uri": "https://localhost:8080/"
        },
        "outputId": "c71e031a-3c28-49a6-b5ae-7e001fde65ec"
      },
      "source": [
        "# Condition statement example\n",
        "\n",
        "album_year = 1984\n",
        "\n",
        "if not (album_year == '1984'):\n",
        "    print (\"Album year is not 1984\")"
      ],
      "execution_count": null,
      "outputs": [
        {
          "output_type": "stream",
          "name": "stdout",
          "text": [
            "Album year is not 1984\n"
          ]
        }
      ]
    },
    {
      "cell_type": "markdown",
      "source": [
        "### EXERCISE 1"
      ],
      "metadata": {
        "id": "LQvYKvzCDZeN"
      }
    },
    {
      "cell_type": "code",
      "source": [
        "# cek_umur.py\n",
        "umur = int(input(\"Berapa umur kamu: \"))\n",
        "\n",
        "if umur >= 17:\n",
        "    print(\"Kamu boleh membuat SIM\")\n",
        "else:\n",
        "    print(\"Kamu belum boleh membuat SIM\")"
      ],
      "metadata": {
        "colab": {
          "base_uri": "https://localhost:8080/"
        },
        "id": "9F3NJAT9HNIe",
        "outputId": "49369481-fcc7-4cf2-f4f9-9a213db4b70b"
      },
      "execution_count": null,
      "outputs": [
        {
          "output_type": "stream",
          "name": "stdout",
          "text": [
            "Berapa umur kamu: 17\n",
            "Kamu boleh membuat SIM\n"
          ]
        }
      ]
    },
    {
      "cell_type": "code",
      "source": [
        "# cek_umur.py\n",
        "umur = int(input(\"Berapa umur kamu: \"))\n",
        "\n",
        "if umur >= 17:\n",
        "    print(\"Kamu boleh membuat SIM\")\n",
        "else:\n",
        "    print(\"Kamu belum boleh membuat SIM\")"
      ],
      "metadata": {
        "colab": {
          "base_uri": "https://localhost:8080/"
        },
        "id": "dZa1frn_H1l-",
        "outputId": "8c050433-be1b-4eec-972d-3fe359e97272"
      },
      "execution_count": null,
      "outputs": [
        {
          "output_type": "stream",
          "name": "stdout",
          "text": [
            "Berapa umur kamu: 14\n",
            "Kamu belum boleh membuat SIM\n"
          ]
        }
      ]
    },
    {
      "cell_type": "markdown",
      "source": [
        "### EXERCISE 2"
      ],
      "metadata": {
        "id": "hTsBMfB8IOX0"
      }
    },
    {
      "cell_type": "code",
      "source": [
        "nilai = int(input(\"masukkan nilai:\"))\n",
        "if nilai >= 90:\n",
        "    print(\"Anda mendapatkan grade A\")\n",
        "elif nilai >= 80:\n",
        "    print(\"Anda mendapatkan grade B+\")\n",
        "elif nilai >= 70:\n",
        "    print(\"Anda mendapatkan grade B\")\n",
        "elif nilai >= 60:\n",
        "    print(\"Anda mendapatkan grade C+\")\n",
        "elif nilai >= 50:\n",
        "    print(\"Anda mendapatkan grade C\")\n",
        "elif nilai >= 40:\n",
        "    print(\"Anda mendapatkan grade D\")\n",
        "else:\n",
        "    print(\"Anda mendapatkan grade E\")"
      ],
      "metadata": {
        "colab": {
          "base_uri": "https://localhost:8080/"
        },
        "id": "CxjJO0uCIXc2",
        "outputId": "dd2daf53-92c0-4295-c419-7beb6813aa47"
      },
      "execution_count": null,
      "outputs": [
        {
          "output_type": "stream",
          "name": "stdout",
          "text": [
            "masukkan nilai:95\n",
            "Anda mendapatkan grade A\n"
          ]
        }
      ]
    },
    {
      "cell_type": "markdown",
      "source": [
        "### EXERCISE 3"
      ],
      "metadata": {
        "id": "gXbtE0s4LZk9"
      }
    },
    {
      "cell_type": "code",
      "source": [
        "nilai = int(input(\"masukkkan nilai:\"))\n",
        "if 80.00 <= nilai <= 100 :\n",
        "  print(\"Anda mendapatkan grade A\")\n",
        "elif 77.50 <= nilai <= 79.99 :\n",
        "  print(\"Anda mendapatkan grade A-\")\n",
        "elif 75.00 <= nilai <= 77.49 :\n",
        "  print(\"Anda mendapatkan grade A/B\")\n",
        "elif 72.50 <= nilai <= 74.99 :\n",
        "  print(\"Anda mendapatkan grade B+\")\n",
        "elif 70.00 <= nilai <= 72.49 :\n",
        "  print(\"Anda mendapatkan grade B\")\n",
        "elif 67.50 <= nilai <= 69.99 :\n",
        "  print(\"Anda mendapatkan grade B-\")\n",
        "elif 65.00 <= nilai <= 67.49 :\n",
        "  print(\"Anda mendapatkan grade B/C\")\n",
        "elif 62.50 <= nilai <= 64.99 :\n",
        "  print(\"Anda mendapatkan grade C+\")\n",
        "elif 60.00 <= nilai <= 62.49 :\n",
        "  print(\"Anda mendapatkan grade C\")\n",
        "elif 55.00 <= nilai <= 59.99 :\n",
        "  print(\"Anda mendapatkan grade C-\")\n",
        "elif 50.00 <= nilai <= 54.99 :\n",
        "  print(\"Anda mendapatkan grade C/D\")\n",
        "elif 45.00 <= nilai <= 49.99 :\n",
        "  print(\"Anda mendapatkan grade D+\")\n",
        "elif 40.00 <= nilai <= 44.99 :\n",
        "  print(\"Anda mendapatkan grade D\")\n",
        "else:\n",
        "  print(\"Anda mendapatkan grade E\")"
      ],
      "metadata": {
        "colab": {
          "base_uri": "https://localhost:8080/"
        },
        "id": "RW5LTKXGLcJ2",
        "outputId": "475601f4-96c7-46c2-ca82-fb6df729c158"
      },
      "execution_count": null,
      "outputs": [
        {
          "output_type": "stream",
          "name": "stdout",
          "text": [
            "masukkkan nilai:51\n",
            "Anda mendapatkan grade C/D\n"
          ]
        }
      ]
    }
  ]
}